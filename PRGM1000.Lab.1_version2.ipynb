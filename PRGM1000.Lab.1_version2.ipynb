{
 "cells": [
  {
   "cell_type": "markdown",
   "metadata": {},
   "source": [
    "## Introduction                                                           Total Marks = 30 (10 marks for each section)"
   ]
  },
  {
   "cell_type": "markdown",
   "metadata": {},
   "source": [
    "In this lab, you will practice doing some basic data analysis with Python in a Jupyter notebook.  The tasks are described above each code cell.  For most of the code cells, you will need to add or edit code to achieve the desired results.\n",
    "\n",
    "<div class=\"alert alert-block alert-info\">Note that code cells later in this document may depend on results generated in code cells earlier. Errors at one point may be the result of a mistake in an earlier section.</div>\n",
    "\n",
    "You are encouraged to add your own code cells if you need them for calculations or testing.  However, the existing ones should not be deleted, only modified.\n",
    "\n",
    "The code block immediately below creates two sets of values that represent the data you will be analyzing.  Do not alter it. When your lab is checked off, you may be given a different data set to try your solution against."
   ]
  },
  {
   "cell_type": "code",
   "execution_count": 3,
   "metadata": {
    "scrolled": false
   },
   "outputs": [],
   "source": [
    "# This code will load some arrays of values (representing IP addresses) that will be the data you analyze.\n",
    "ATestData = [1,15,21000] #Data just used for demonstration purposes below\n",
    "AIPv4 = [183701260, 2886729818, 3232262221] # IPv4 Addresses are 32 bits\n",
    "AIPv6 = [12, 56, 65] # IPv6 Addresses are 128 bits"
   ]
  },
  {
   "cell_type": "markdown",
   "metadata": {},
   "source": [
    "The code block below shows some examples of iterating (looping) through an array. You will frequently need to perform the same operation on all of the elements of one of your lists.  This is how to do it."
   ]
  },
  {
   "cell_type": "code",
   "execution_count": 25,
   "metadata": {},
   "outputs": [
    {
     "name": "stdout",
     "output_type": "stream",
     "text": [
      "Print the contents of a list:\n",
      "[1, 15, 21000]\n",
      "\n",
      "Print out all of the elements in a list (one at a time):\n",
      "1\n",
      "15\n",
      "21000\n",
      "\n",
      "Create a new list based on the elements in an old list (iteratively):\n",
      "2\n",
      "30\n",
      "42000\n",
      "\n",
      "Create a new list based on old list (using list comprehension)\n",
      "3\n",
      "45\n",
      "63000\n"
     ]
    }
   ],
   "source": [
    "print(\"Print the contents of a list:\")\n",
    "print(ATestData)\n",
    "\n",
    "print (\"\\nPrint out all of the elements in a list (one at a time):\")\n",
    "for x in ATestData:\n",
    "    print(x)\n",
    "\n",
    "print (\"\\nCreate a new list based on the elements in an old list (iteratively):\")\n",
    "# Create new list and add elements\n",
    "ADoubleTestData = [] #Empty list\n",
    "for x in ATestData:\n",
    "    ADoubleTestData.append(x*2) #Add element that is double original\n",
    "    \n",
    "#Now print the results from above:\n",
    "for y in ADoubleTestData:\n",
    "    print(y)\n",
    "\n",
    "#You can do the above more elegantly, but this is an advanced\n",
    "#topic.  You can use it if you wish.\n",
    "print (\"\\nCreate a new list based on old list (using list comprehension)\")\n",
    "ATripleTestData = [i*3 for i in ATestData]\n",
    "for z in ATripleTestData:\n",
    "    print(z)\n",
    "    "
   ]
  },
  {
   "cell_type": "markdown",
   "metadata": {},
   "source": [
    "## Part 1: Display IP Addresses in Standard Format (10 marks)\n",
    "\n",
    "In this section, you will take your lists of numbers (which represent IP Addresses) and print them out using standard notation: dotted decimal (192.197.128.18) for IPv4 and the much more sane colon-delimited hexadecimal format(2001:db8:85a3::8a2e:370:7334) for IPv6.\n",
    "\n",
    "### IPv4\n",
    "\n",
    "Complete the code below, as indicated in the comments, that will generate a list of IPv4 addresses using dotted decimal format. The output result should be saved as a list of strings in a variable named `ADDec`."
   ]
  },
  {
   "cell_type": "code",
   "execution_count": 26,
   "metadata": {},
   "outputs": [
    {
     "name": "stdout",
     "output_type": "stream",
     "text": [
      "['Your.Result', 'Your.Result', 'Your.Result']\n"
     ]
    }
   ],
   "source": [
    "# Declare my empty list\n",
    "AIPv4DotDec = []\n",
    "\n",
    "# Iterate through list of IPv4 Addresses\n",
    "for addy in AIPv4:\n",
    "    # Find the four octets (most significant to least significant)\n",
    "    # this will require using bitwise operators and masking.\n",
    "    oct1 = addy & 0xFF000000  #AND Mask to get only the 8 (FF is 1111 1111) bits.\n",
    "    oct1 = oct1 >> 24 #Shift the bits so \"1010 0000 0000 0000\" becomes \"1010\"\n",
    "    \n",
    "    oct2 = 0  #Replace with your own code, use what's above to help out\n",
    "    oct3 = 0  #Replace with your own code, use what's above to help out\n",
    "    oct4 = 0  #Replace with your own code, use what's above to help out\n",
    "    \n",
    "    # Now, assemble a string from those 4 numbers, separated by periods/decimal points:\n",
    "    # Knowing how to convert a number to a string will be helpful here.\n",
    "    addyString = \"Your\" + \".\" + \"Result\"\n",
    "    \n",
    "    # Add the string to your new array\n",
    "    AIPv4DotDec.append(addyString)\n",
    "    \n",
    "# Optional, for debugging\n",
    "print(AIPv4DotDec)"
   ]
  },
  {
   "cell_type": "code",
   "execution_count": 4,
   "metadata": {},
   "outputs": [
    {
     "name": "stdout",
     "output_type": "stream",
     "text": [
      "['10.0.15.12', '172.0.0.90', '192.0.104.77']\n"
     ]
    }
   ],
   "source": [
    "# Declare my empty list\n",
    "AIPv4DotDec = []\n",
    "\n",
    "# Iterate through list of IPv4 Addresses\n",
    "for addy in AIPv4:\n",
    "    # Find the four octets (most significant to least significant)\n",
    "    # this will require using bitwise operators and masking.\n",
    "    oct1 = addy & 0xFF000000  #AND Mask to get only the 8 (FF is 1111 1111) bits.\n",
    "    oct1 = oct1 >> 24 #Shift the bits so \"1010 0000 0000 0000\" becomes \"1010\"\n",
    "    \n",
    "    oct2 = addy & 0x00FF0000\n",
    "    oct2 = oct1 >> 16\n",
    "    oct3 = addy & 0x0000FF00\n",
    "    oct3 = oct3 >> 8\n",
    "    oct4 = addy & 0x000000FF\n",
    "    \n",
    "    # Now, assemble a string from those 4 numbers, separated by periods/decimal points:\n",
    "    # Knowing how to convert a number to a string will be helpful here.\n",
    "    addyString = str(oct1) + \".\" + str(oct2) + \".\" + str(oct3) + \".\" + str(oct4)\n",
    "    \n",
    "    # Add the string to your new array\n",
    "    AIPv4DotDec.append(addyString)\n",
    "    \n",
    "# Optional, for debugging\n",
    "print(AIPv4DotDec)"
   ]
  },
  {
   "cell_type": "markdown",
   "metadata": {},
   "source": [
    "### IPv6 (Lab Challenge)\n",
    "\n",
    "Now, perform the same task for your set of IPv6 addresses ('AIPv6'). Store the result in an array named `AIPv6Colhex`.  Ensure you use the standard format of strings of four hex digits, each group separated by colons (:). Full marks will require that you also adhere to the convention of dropping leading zeroes (`:12B:` rather than `:012B:`, and `::` rather than `:0000:`).  You are not required to replace chains of `::::` with one `:`, however if you choose to do so, remember that can only be done at one place in the address (whichever chain of sequential `:::` is longest). We will visit that problem using regular expressions later in the course.\n",
    "\n",
    "<div class=\"alert alert-block alert-info\">\n",
    "<b>Hint:</b> Remember that you can use the conditional expressions (ternary) operator to choose between alternatives. For example, you can implement absolute value using the conditional expression <tt>y = x if x >= 0 else -x</tt> You can even chain them together. See below for an example.\n",
    "</div>\n"
   ]
  },
  {
   "cell_type": "code",
   "execution_count": 28,
   "metadata": {},
   "outputs": [
    {
     "name": "stdout",
     "output_type": "stream",
     "text": [
      "Curly\n"
     ]
    }
   ],
   "source": [
    "# Sample of chaining conditional statements\n",
    "stooge = \"Larry\" if (1<0) else \"Moe\" if (0<0) else \"Curly\" if (0<1) else \"Shemp\"\n",
    "print(stooge)"
   ]
  },
  {
   "cell_type": "code",
   "execution_count": 29,
   "metadata": {},
   "outputs": [
    {
     "name": "stdout",
     "output_type": "stream",
     "text": [
      "['12', '56', '65']\n"
     ]
    }
   ],
   "source": [
    "# Declare my empty list\n",
    "AIPv6ColHex = []\n",
    "\n",
    "# Iterate through list of IPv4 Addresses\n",
    "for addy in AIPv6:\n",
    "    #Your code here...\n",
    "    AIPv6ColHex.append(str(addy)) #replace this\n",
    "    \n",
    "#Optional, for debugging\n",
    "print(AIPv6ColHex)"
   ]
  },
  {
   "cell_type": "markdown",
   "metadata": {},
   "source": [
    "## Part 2: Display IP Classes (10 marks)\n",
    "\n",
    "In this section, you will print out the classes (A,B,C, ...) for the IPv4 addresses. You do not need to use the results from the previous section (converting the numeric IP addresses to string represenations), but are welcome to. There are multiple ways to accomplish this. Feel free to be creative."
   ]
  },
  {
   "cell_type": "markdown",
   "metadata": {},
   "source": [
    "### IPv4\n",
    "\n",
    "Print out the IP address class for the supplied set of 32-bit numeric addresses.\n",
    "The output should look like the below, one line per address:\n",
    "```\n",
    "0167772160 - Class A\n",
    "3232235777 - Class C\n",
    "```\n",
    "Note that you should use leading zeroes to pad the width of the integer out to 10 digits (the maximum for a 32-bit number expressed in decimal). **Hint: String formatters make this fairly easy.**"
   ]
  },
  {
   "cell_type": "code",
   "execution_count": null,
   "metadata": {
    "scrolled": false
   },
   "outputs": [],
   "source": [
    "# Iterate through list of IPv4 Addresses. You do not have to use this specific code for this. This is just an example.\n",
    "for addy in AIPv4:\n",
    "    #Replace below with your code...\n",
    "    #you can use explicit line continuation (backslash)\n",
    "    #if your line gets too long.\n",
    "    addyclass = \"A\" if (1 < 0) \\\n",
    "           else \"B\" if (False) \\\n",
    "           else \"C\" # Remember to add D and E, too\n",
    "    print(str(addy) + \" - \" + addyclass) #I'd replace this with a string formatter."
   ]
  },
  {
   "cell_type": "code",
   "execution_count": null,
   "metadata": {},
   "outputs": [],
   "source": [
    "# Iterate through list of IPv4 Addresses. You do not have to use this specific code for this. This is just an example.\n",
    "for addy in AIPv4:\n",
    "    #Replace below with your code...\n",
    "    #you can use explicit line continuation (backslash)\n",
    "    #if your line gets too long.\n",
    "    addyclass = \"A\" if (addy >= 0 and addy <= 2147483646) \\\n",
    "           else \"B\" if (addy >= 2147483648 and addy <= 3221225470) \\\n",
    "           else \"C\" if (addy >= 3221225472 and addy <= 3758096382) \\\n",
    "           else \"D\" if (addy >= 3758096384 and addy <= 4026531838) \\\n",
    "           else \"E\"\n",
    "    print(str(addy) + \" - \" + addyclass) #I'd replace this with a string formatter."
   ]
  },
  {
   "cell_type": "markdown",
   "metadata": {},
   "source": [
    "Result should be like something below:\n",
    "\n",
    "183701260​ - A\n",
    "\n",
    "2886729818 - B\n",
    "\n",
    "3232262221 - C"
   ]
  },
  {
   "cell_type": "markdown",
   "metadata": {},
   "source": [
    "## Part 3: Display Network Address (10 marks)\n",
    "\n",
    "In this section, you will print out the network address (the IP that refers to all addresses in the network, with all bits in the subnet portion of the address set to 0) for all of the addresses in the provided set of numeric IPv4 addresses.  Determine the class of the address and then print out (in dotted-decimal format, naturally) the associated network address.  For example, the address `192.168.5.23` is a class C address, so its network would be `192.168.5.0`.\n",
    "\n",
    "**Hint: You will likely find that some of the code you wrote for the previous section(s)&mdash;like the code for detecting the address class&mdash;will be valuable here.**"
   ]
  },
  {
   "cell_type": "code",
   "execution_count": 31,
   "metadata": {},
   "outputs": [],
   "source": [
    "# No starter code.  Time to solo."
   ]
  },
  {
   "cell_type": "code",
   "execution_count": null,
   "metadata": {},
   "outputs": [],
   "source": [
    "for addy in AIPv4:\n",
    "    addyclass = \"A\" if (addy >= 0 and addy <= 2147483646) \\\n",
    "           else \"B\" if (addy >= 2147483648 and addy <= 3221225470) \\\n",
    "           else \"C\" if (addy >= 3221225472 and addy <= 3758096382) \\\n",
    "           else \"D\" if (addy >= 3758096384 and addy <= 4026531838) \\\n",
    "           else \"E\"\n",
    "    \n",
    "    oct1 = addy & 0xFF000000  \n",
    "    oct1 = oct1 >> 24\n",
    "    oct2 = addy & 0x00FF0000\n",
    "    oct2 = oct1 >> 16\n",
    "    oct3 = addy & 0x0000FF00\n",
    "    oct3 = oct3 >> 8\n",
    "    oct4 = addy & 0x000000FF\n",
    "    if(addyclass == \"A\"):\n",
    "        oct3 = \"0\"\n",
    "        oct2 = \"0\"\n",
    "        oct4 = \"0\"\n",
    "    elif addyclass == \"B\":\n",
    "        oct3 = \"0\"\n",
    "        oct4 = \"0\"\n",
    "    elif addyclass == \"C\":\n",
    "        oct4 = \"0\"\n",
    "    addyString = str(oct1) + \".\" + str(oct2) + \".\" + str(oct3) + \".\" + str(oct4) \n",
    "        \n",
    "    print(str(addyString) + \" - \" + addyclass"
   ]
  }
 ],
 "metadata": {
  "kernelspec": {
   "display_name": "Python 3",
   "language": "python",
   "name": "python3"
  },
  "language_info": {
   "codemirror_mode": {
    "name": "ipython",
    "version": 3
   },
   "file_extension": ".py",
   "mimetype": "text/x-python",
   "name": "python",
   "nbconvert_exporter": "python",
   "pygments_lexer": "ipython3",
   "version": "3.7.3"
  }
 },
 "nbformat": 4,
 "nbformat_minor": 2
}
